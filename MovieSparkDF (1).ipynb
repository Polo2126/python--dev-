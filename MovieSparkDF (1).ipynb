{
 "cells": [
  {
   "cell_type": "code",
   "execution_count": null,
   "metadata": {},
   "outputs": [],
   "source": [
    "import pyspark"
   ]
  },
  {
   "cell_type": "code",
   "execution_count": null,
   "metadata": {},
   "outputs": [],
   "source": [
    "from pyspark import SparkContext\n",
    "from pyspark import SQLContext"
   ]
  },
  {
   "cell_type": "code",
   "execution_count": null,
   "metadata": {},
   "outputs": [],
   "source": [
    "#start up spark and sql context for dataframes!\n",
    "sc = SparkContext('local','WordCountApp')\n",
    "sqlContext = SQLContext(sc)\n"
   ]
  },
  {
   "cell_type": "code",
   "execution_count": null,
   "metadata": {},
   "outputs": [],
   "source": [
    "my_bucket = '686bucket'\n",
    "my_key = 'movie-corpus-CSV/movie_characters_metadata.csv'\n",
    "\n",
    "from pyspark.sql.types import *\n",
    "from s3fs.core import S3FileSystem\n",
    "\n",
    "#this is a bit convoluted b/c we are using s3 but...\n",
    "#first we read the data into pandas\n",
    "\n",
    "s3 = S3FileSystem(anon=False)\n",
    "df = pd.read_csv(s3.open('{}/{}'.format(my_bucket, my_key), mode='rb'))\n"
   ]
  },
  {
   "cell_type": "code",
   "execution_count": null,
   "metadata": {
    "scrolled": true
   },
   "outputs": [],
   "source": [
    "#now we convert to a \"pyspark\" dataframe which is distributed using\n",
    "#our sqlContext, we also use a struct to make sure all the \n",
    "#columns have the names we want and the types (sometimes the conversion from\n",
    "#pandas to dataframe gets messed up b/c of type issues)\n",
    "movieSchema = StructType([StructField(\"character_id\", StringType(), False), \\\n",
    "                      StructField(\"character_name\", StringType(), False),\\\n",
    "                      StructField(\"movie_id\", StringType(), False),\\\n",
    "                      StructField(\"movie_name\", StringType(), False),\\\n",
    "                      StructField(\"character_gender\", StringType(), False),\\\n",
    "                      StructField(\"position_in_credits\", StringType(), False)])\n",
    "\n",
    "\n",
    "pyDF = sqlContext.createDataFrame(df,schema=movieSchema)"
   ]
  },
  {
   "cell_type": "code",
   "execution_count": null,
   "metadata": {},
   "outputs": [],
   "source": [
    "#look at our schema to make sure everything read well\n",
    "pyDF.printSchema()\n",
    "pyDF.show(5)"
   ]
  },
  {
   "cell_type": "code",
   "execution_count": null,
   "metadata": {},
   "outputs": [],
   "source": []
  }
 ],
 "metadata": {
  "kernelspec": {
   "display_name": "conda_python3",
   "language": "python",
   "name": "conda_python3"
  },
  "language_info": {
   "codemirror_mode": {
    "name": "ipython",
    "version": 3
   },
   "file_extension": ".py",
   "mimetype": "text/x-python",
   "name": "python",
   "nbconvert_exporter": "python",
   "pygments_lexer": "ipython3",
   "version": "3.6.10"
  }
 },
 "nbformat": 4,
 "nbformat_minor": 4
}
