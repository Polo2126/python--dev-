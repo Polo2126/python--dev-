{
 "cells": [
  {
   "cell_type": "code",
   "execution_count": 1,
   "id": "expensive-triple",
   "metadata": {},
   "outputs": [],
   "source": [
    "from pyspark.sql.functions import *\n",
    "from pyspark.sql.types import *\n",
    "from pyspark.sql import functions as F\n",
    "\n",
    "def preprocessing(lines):\n",
    "    words = lines.select(explode(split(lines.value, \"t_end\")).alias(\"word\"))\n",
    "    words = words.na.replace('', None)\n",
    "    words = words.na.drop()\n",
    "    words = words.withColumn('word', F.regexp_replace('word', r'http\\S+', ''))\n",
    "    words = words.withColumn('word', F.regexp_replace('word', '@\\w+', ''))\n",
    "    words = words.withColumn('word', F.regexp_replace('word', '#', ''))\n",
    "    words = words.withColumn('word', F.regexp_replace('word', 'RT', ''))\n",
    "    words = words.withColumn('word', F.regexp_replace('word', ':', ''))\n",
    "    return words"
   ]
  },
  {
   "cell_type": "code",
   "execution_count": 2,
   "id": "korean-manitoba",
   "metadata": {},
   "outputs": [],
   "source": [
    "from pyspark.sql import SparkSession\n",
    "\n",
    "spark = SparkSession.builder.appName(\"TwitterSentimentAnalysis\").getOrCreate()\n",
    "# read the tweet data from socket\n",
    "lines = spark.readStream.format(\"socket\").option(\"host\", \"0.0.0.0\").option(\"port\", 5555).load()\n",
    "# Preprocess the data\n",
    "words = preprocessing(lines)\n",
    "#query = words.writeStream.queryName(\"all_tweets\")\\\n",
    "#        .outputMode(\"append\").format(\"parquet\")\\\n",
    "#        .option(\"path\", \"s3a://686bucket/twitter_stream_out/\")\\\n",
    "#        .option(\"checkpointLocation\", \"./check\")\\\n",
    "#        .trigger(processingTime='60 seconds').start()\n",
    "#query.awaitTermination()\n",
    "#query = words.writeStream.format(\"console\").start()\n",
    "query = words \\\n",
    "    .writeStream \\\n",
    "    .outputMode(\"append\") \\\n",
    "    .format(\"memory\") \\\n",
    "    .queryName(\"all_tweets\") \\\n",
    "    .trigger(processingTime='5 seconds').start()"
   ]
  },
  {
   "cell_type": "code",
   "execution_count": null,
   "id": "advance-princeton",
   "metadata": {},
   "outputs": [
    {
     "data": {
      "text/plain": [
       "{'message': 'Waiting for next trigger',\n",
       " 'isDataAvailable': False,\n",
       " 'isTriggerActive': False}"
      ]
     },
     "metadata": {},
     "output_type": "display_data"
    },
    {
     "name": "stdout",
     "output_type": "stream",
     "text": [
      "+--------------------+\n",
      "|                word|\n",
      "+--------------------+\n",
      "|  No surprise her...|\n",
      "|   clouds that look |\n",
      "|like snowy mountains|\n",
      "|clouds sky dusk s...|\n",
      "|  HOW TO SOUND LI...|\n",
      "|1. make a simple ...|\n",
      "|2. in between em-...|\n",
      "|              3. ad…|\n",
      "|The view to be fo...|\n",
      "|\"instead of going...|\n",
      "|You can plant a t...|\n",
      "|                    |\n",
      "|  \"Please picture me|\n",
      "|       In the trees\"|\n",
      "|                    |\n",
      "|Imagine it’s 2005...|\n",
      "|Trees cover up a ...|\n",
      "|  It’s my first t...|\n",
      "|  The Gond tribe ...|\n",
      "|This is what has ...|\n",
      "+--------------------+\n",
      "only showing top 20 rows\n",
      "\n"
     ]
    },
    {
     "data": {
      "text/plain": [
       "None"
      ]
     },
     "metadata": {},
     "output_type": "display_data"
    }
   ],
   "source": [
    "from IPython.display import display, clear_output\n",
    "from time import sleep\n",
    "\n",
    "while True:\n",
    "    clear_output(wait=True)\n",
    "    display(query.status)\n",
    "    display(spark.sql('SELECT * FROM all_tweets').show())\n",
    "    sleep(5)"
   ]
  },
  {
   "cell_type": "code",
   "execution_count": null,
   "id": "extended-principal",
   "metadata": {},
   "outputs": [],
   "source": []
  }
 ],
 "metadata": {
  "kernelspec": {
   "display_name": "conda_python3",
   "language": "python",
   "name": "conda_python3"
  },
  "language_info": {
   "codemirror_mode": {
    "name": "ipython",
    "version": 3
   },
   "file_extension": ".py",
   "mimetype": "text/x-python",
   "name": "python",
   "nbconvert_exporter": "python",
   "pygments_lexer": "ipython3",
   "version": "3.6.13"
  }
 },
 "nbformat": 4,
 "nbformat_minor": 5
}
