<?xml version="1.0" encoding="UTF-8"?>
<!DOCTYPE plist PUBLIC "-//Apple//DTD PLIST 1.0//EN" "http://www.apple.com/DTDs/PropertyList-1.0.dtd">
<plist version="1.0">
<dict>
	<key>URL</key>
	<string>https://python-first.notebook.us-east-1.sagemaker.aws/notebooks/mongodb-assignment.ipynb</string>
</dict>
</plist>
